{
 "cells": [
  {
   "cell_type": "code",
   "execution_count": null,
   "id": "674f16f2-2b05-49fe-933a-b0a3f98b475f",
   "metadata": {},
   "outputs": [],
   "source": [
    "def penjumlahan():\n",
    "    a = int(input(\"Enter angkat pertama: \"))\n",
    "    b = int(input(\"Enter angka kedua: \"))\n",
    "    return a+b"
   ]
  }
 ],
 "metadata": {
  "kernelspec": {
   "display_name": "Python 3 (ipykernel)",
   "language": "python",
   "name": "python3"
  },
  "language_info": {
   "codemirror_mode": {
    "name": "ipython",
    "version": 3
   },
   "file_extension": ".py",
   "mimetype": "text/x-python",
   "name": "python",
   "nbconvert_exporter": "python",
   "pygments_lexer": "ipython3",
   "version": "3.12.4"
  }
 },
 "nbformat": 4,
 "nbformat_minor": 5
}
